{
 "cells": [
  {
   "cell_type": "code",
   "execution_count": 9,
   "metadata": {},
   "outputs": [
    {
     "name": "stdout",
     "output_type": "stream",
     "text": [
      "Enter number: 30\n",
      "Total of Number is: 465\n"
     ]
    }
   ],
   "source": [
    "# Program to calculate sum of 'n' numbers using while loop\n",
    "\n",
    "sum1=0\n",
    "i=0\n",
    "num1=int(input(\"Enter number: \"))\n",
    "while (i <= num1):\n",
    "    sum1+=i\n",
    "    #print(\"Sum :\",sum1)\n",
    "    i=i+1\n",
    "print(\"Total of Number is:\",sum1)"
   ]
  },
  {
   "cell_type": "code",
   "execution_count": 3,
   "metadata": {},
   "outputs": [
    {
     "name": "stdout",
     "output_type": "stream",
     "text": [
      "Enter Number : 20\n",
      "20 is not a prime number.\n"
     ]
    }
   ],
   "source": [
    "# Program to find whether the number is prime or not using while loop\n",
    "\n",
    "num1=int(input(\"Enter Number : \"))\n",
    "if num1 > 1:\n",
    "    for i in range(2,num1):\n",
    "        if (num1 % i) == 0:\n",
    "            print(num1,\"is not a prime number.\")\n",
    "            break\n",
    "    else:\n",
    "           print(num1,\"is a prime number.\")\n",
    "else:\n",
    "    print(num1,\"is not a prime number.\")"
   ]
  }
 ],
 "metadata": {
  "kernelspec": {
   "display_name": "Python 3",
   "language": "python",
   "name": "python3"
  }
 },
 "nbformat": 4,
 "nbformat_minor": 4
}
